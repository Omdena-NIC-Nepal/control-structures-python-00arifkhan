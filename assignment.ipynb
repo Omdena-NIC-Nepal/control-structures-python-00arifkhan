{
 "cells": [
  {
   "cell_type": "code",
   "execution_count": 53,
   "id": "e6e4b669-5bde-4179-9b6d-e771d28149f5",
   "metadata": {},
   "outputs": [],
   "source": [
    "#task1- use while loop\n",
    "def while_loop():\n",
    "    num = 0\n",
    "    while num <= 20:\n",
    "        if num%2==0:\n",
    "            print (num)\n",
    "        if num==16:\n",
    "            break\n",
    "        num += 2\n",
    "\n",
    "\n"
   ]
  },
  {
   "cell_type": "code",
   "execution_count": 54,
   "id": "bed9c936-02b0-4b1e-8b36-4d5de7806122",
   "metadata": {},
   "outputs": [],
   "source": [
    "#task2- for loop with continue\n",
    "def for_loop_continue():\n",
    "    for num in range(1, 16):\n",
    "        if num % 3 == 0:\n",
    "            continue\n",
    "        print(num)"
   ]
  },
  {
   "cell_type": "code",
   "execution_count": 55,
   "id": "72497ac7-5b64-4e2f-b3be-b390d8e3ec64",
   "metadata": {},
   "outputs": [],
   "source": [
    "#task3- if-else statement\n",
    "def number_classification():\n",
    "    num = int(input(\"Enter a number: \")) \n",
    "    if num > 0:\n",
    "        print(\"Positive\")\n",
    "    elif num < 0:\n",
    "        print(\"Negative\")\n",
    "    else:\n",
    "        print(\"Zero\")"
   ]
  },
  {
   "cell_type": "code",
   "execution_count": 56,
   "id": "ecbad887-4475-4081-bf2a-9f2d5a1be42a",
   "metadata": {},
   "outputs": [],
   "source": [
    "#task4 - nested loops\n",
    "def multiplication_table():\n",
    "    for i in range(1, 6):\n",
    "        for j in range(1, 6):\n",
    "            print(f\"{i} x {j} = {i * j}\")"
   ]
  },
  {
   "cell_type": "code",
   "execution_count": null,
   "id": "37bfa10e-cfa2-4a8c-b7a0-a5a0541b8861",
   "metadata": {},
   "outputs": [],
   "source": []
  },
  {
   "cell_type": "code",
   "execution_count": null,
   "id": "61f39ba7-724b-4cad-bae9-29b76cbee74d",
   "metadata": {},
   "outputs": [],
   "source": []
  }
 ],
 "metadata": {
  "kernelspec": {
   "display_name": "Python 3 (ipykernel)",
   "language": "python",
   "name": "python3"
  },
  "language_info": {
   "codemirror_mode": {
    "name": "ipython",
    "version": 3
   },
   "file_extension": ".py",
   "mimetype": "text/x-python",
   "name": "python",
   "nbconvert_exporter": "python",
   "pygments_lexer": "ipython3",
   "version": "3.12.7"
  }
 },
 "nbformat": 4,
 "nbformat_minor": 5
}
